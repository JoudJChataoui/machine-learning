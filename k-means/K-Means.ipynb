{
 "cells": [
  {
   "cell_type": "code",
   "execution_count": null,
   "metadata": {},
   "outputs": [],
   "source": [
    "from sklearn.datasets import make_blobs\n",
    "# Using 2 features here simply for the ease of visualization, the algorithm generalizes to any dimension\n",
    "X, y = make_blobs(n_samples=200, centers=3, n_features=2, random_state=0, cluster_std=0.8)"
   ]
  },
  {
   "cell_type": "code",
   "execution_count": null,
   "metadata": {},
   "outputs": [],
   "source": [
    "import numpy as np\n",
    "import matplotlib\n",
    "import matplotlib.pyplot as plt\n",
    "import math\n",
    "import random\n",
    "X"
   ]
  },
  {
   "cell_type": "code",
   "execution_count": null,
   "metadata": {},
   "outputs": [],
   "source": [
    "plt.scatter(X[:, 0], X[:, 1])"
   ]
  },
  {
   "cell_type": "code",
   "execution_count": null,
   "metadata": {},
   "outputs": [],
   "source": [
    "# Given a sample with any number of features, and a centroid with the same number of features, find the Cartesian distance\n",
    "# between them\n",
    "def compute_distance_to_centroid(sample, centroid):\n",
    "    num_of_features = len(sample) # should be the same as the number of features for the centroid. In this case, 2\n",
    "    acc = 0\n",
    "    for idx, sample in enumerate(sample):\n",
    "        acc = acc + (sample - centroid[idx]) ** 2\n",
    "    return math.sqrt(acc)\n",
    "\n",
    "# Randomly initializes k centroids.\n",
    "# You need to pass X so the domain for each feature can be determined.\n",
    "def initialize_centroids(k, X):\n",
    "    min_values = np.amin(X, axis = 0)\n",
    "    max_values = np.amax(X, axis = 0)\n",
    "    centroids = np.zeros((k, len(X[0]))) # len(X[0]) simply represents the number of features\n",
    "    # Loop over min and max value arrays in parallel and generate a random value between these values\n",
    "    for cluster_idx in range(k):\n",
    "        for idx in range(len(min_values)): \n",
    "            centroids[cluster_idx][idx] = random.uniform(min_values[idx], max_values[idx])\n",
    "    return centroids\n",
    "\n",
    "# Given a sample and a list of centroids, returns the centroid closest to the sample\n",
    "def find_best_centroid(sample, centroids):\n",
    "    distances = np.zeros((len(centroids)))\n",
    "    for idx, centroid in enumerate(centroids):\n",
    "        distances[idx] = compute_distance_to_centroid(sample, centroid)\n",
    "    return (np.argmin(distances), np.amin(distances))"
   ]
  },
  {
   "cell_type": "code",
   "execution_count": null,
   "metadata": {},
   "outputs": [],
   "source": [
    "def perform_k_means_iteration():\n",
    "    # These 2 arrays are used to keep track of the centroids at the beginning and end of an iteration\n",
    "    previous_centroids = initialize_centroids(3, X)\n",
    "    next_centroids = np.zeros((3, len(X[0])))\n",
    "\n",
    "    # This array represents the optimal centroid associated to each sample (ie the closest centroid to a given sample)\n",
    "    optimal_centroids = np.zeros((len(X)))\n",
    "\n",
    "    has_converged = False\n",
    "    iteration_count = 0\n",
    "    inertia = 0\n",
    "    while not has_converged:\n",
    "        iteration_count += 1\n",
    "        inertia = 0 # reset inertia for the newest values of centroids\n",
    "        # We recenter each centroid based on the mean of all samples in its cluster\n",
    "        for centroid_idx in range(len(previous_centroids)):\n",
    "            for inner_idx, sample in enumerate(X):\n",
    "                # The tuple holds both the optimal centroid and the distance to it.\n",
    "                best_centroid_tuple = find_best_centroid(sample, previous_centroids)\n",
    "                optimal_centroids[inner_idx] = best_centroid_tuple[0]\n",
    "                inertia += best_centroid_tuple[1]\n",
    "            # Indicies of all samples in the current centroid's cluster\n",
    "            indices_for_centroid = np.where(optimal_centroids == centroid_idx)\n",
    "            values_in_cluster = X[indices_for_centroid]\n",
    "            if len(values_in_cluster) == 0:\n",
    "                print('Aborting since one cluster is empty')\n",
    "                print(inertia)\n",
    "                return (previous_centroids, inertia)\n",
    "            next_centroids[centroid_idx, :] = np.mean(values_in_cluster, axis = 0)    \n",
    "        if np.array_equal(next_centroids, previous_centroids):\n",
    "            has_converged = True\n",
    "        else:\n",
    "            previous_centroids = next_centroids\n",
    "    print('K Means converged after {} iterations'.format(iteration_count))\n",
    "    print('Model has inertia of {}'.format(inertia))\n",
    "    return (previous_centroids, inertia)\n",
    "    \n",
    "# n represents the number of training iterations we want.\n",
    "# The function will return the centroids with the smallest inertia\n",
    "def perform_k_means(n):\n",
    "    k_means_iteration_res = perform_k_means_iteration()\n",
    "    min_inertia = k_means_iteration_res[1]\n",
    "    optimal_centroids = k_means_iteration_res[0]\n",
    "    for iteration in range(n - 1):\n",
    "        k_means_iteration_res = perform_k_means_iteration()\n",
    "        centroids = k_means_iteration_res[0]\n",
    "        inertia = k_means_iteration_res[1]\n",
    "        if inertia < min_inertia:\n",
    "            min_inertia = inertia\n",
    "            optimal_centroids = centroids\n",
    "    return (optimal_centroids, min_inertia)\n",
    "\n",
    "k_means_res = perform_k_means(10)\n",
    "optimal_centroids = k_means_res[0]\n",
    "print(k_means_res[1])"
   ]
  },
  {
   "cell_type": "code",
   "execution_count": null,
   "metadata": {},
   "outputs": [],
   "source": [
    "closest_centroids = np.zeros((len(X)))\n",
    "for idx, sample in enumerate(X):\n",
    "    closest_centroids[idx] = find_best_centroid(sample, optimal_centroids)[0]\n",
    "colors = ['red','green', 'blue']\n",
    "# plot the data for visualization\n",
    "plt.scatter(X[:, 0], X[:, 1], c=closest_centroids, cmap=matplotlib.colors.ListedColormap(colors))"
   ]
  }
 ],
 "metadata": {
  "kernelspec": {
   "display_name": "Python 3",
   "language": "python",
   "name": "python3"
  },
  "language_info": {
   "codemirror_mode": {
    "name": "ipython",
    "version": 3
   },
   "file_extension": ".py",
   "mimetype": "text/x-python",
   "name": "python",
   "nbconvert_exporter": "python",
   "pygments_lexer": "ipython3",
   "version": "3.8.6"
  }
 },
 "nbformat": 4,
 "nbformat_minor": 4
}
