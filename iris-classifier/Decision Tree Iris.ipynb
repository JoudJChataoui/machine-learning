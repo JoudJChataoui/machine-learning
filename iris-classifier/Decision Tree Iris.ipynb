{
 "cells": [
  {
   "cell_type": "code",
   "execution_count": 1,
   "metadata": {},
   "outputs": [],
   "source": [
    "from sklearn.datasets import load_iris\n",
    "\n",
    "iris = load_iris()\n"
   ]
  },
  {
   "cell_type": "code",
   "execution_count": 2,
   "metadata": {},
   "outputs": [
    {
     "name": "stdout",
     "output_type": "stream",
     "text": [
      "dict_keys(['data', 'target', 'frame', 'target_names', 'DESCR', 'feature_names', 'filename'])\n"
     ]
    }
   ],
   "source": [
    "print(iris.keys())"
   ]
  },
  {
   "cell_type": "code",
   "execution_count": 3,
   "metadata": {},
   "outputs": [
    {
     "name": "stdout",
     "output_type": "stream",
     "text": [
      ".. _iris_dataset:\n",
      "\n",
      "Iris plants dataset\n",
      "--------------------\n",
      "\n",
      "**Data Set Characteristics:**\n",
      "\n",
      "    :Number of Instances: 150 (50 in each of three classes)\n",
      "    :Number of Attributes: 4 numeric, predictive attributes and the class\n",
      "    :Attribute Information:\n",
      "        - sepal length in cm\n",
      "        - sepal width in cm\n",
      "        - petal length in cm\n",
      "        - petal width in cm\n",
      "        - class:\n",
      "                - Iris-Setosa\n",
      "                - Iris-Versicolour\n",
      "                - Iris-Virginica\n",
      "                \n",
      "    :Summary Statistics:\n",
      "\n",
      "    ============== ==== ==== ======= ===== ====================\n",
      "                    Min  Max   Mean    SD   Class Correlation\n",
      "    ============== ==== ==== ======= ===== ====================\n",
      "    sepal length:   4.3  7.9   5.84   0.83    0.7826\n",
      "    sepal width:    2.0  4.4   3.05   0.43   -0.4194\n",
      "    petal length:   1.0  6.9   3.76   1.76    0.9490  (high!)\n",
      "    petal width:    0.1  2.5   1.20   0.76    0.9565  (high!)\n",
      "    ============== ==== ==== ======= ===== ====================\n",
      "\n",
      "    :Missing Attribute Values: None\n",
      "    :Class Distribution: 33.3% for each of 3 classes.\n",
      "    :Creator: R.A. Fisher\n",
      "    :Donor: Michael Marshall (MARSHALL%PLU@io.arc.nasa.gov)\n",
      "    :Date: July, 1988\n",
      "\n",
      "The famous Iris database, first used by Sir R.A. Fisher. The dataset is taken\n",
      "from Fisher's paper. Note that it's the same as in R, but not as in the UCI\n",
      "Machine Learning Repository, which has two wrong data points.\n",
      "\n",
      "This is perhaps the best known database to be found in the\n",
      "pattern recognition literature.  Fisher's paper is a classic in the field and\n",
      "is referenced frequently to this day.  (See Duda & Hart, for example.)  The\n",
      "data set contains 3 classes of 50 instances each, where each class refers to a\n",
      "type of iris plant.  One class is linearly separable from the other 2; the\n",
      "latter are NOT linearly separable from each other.\n",
      "\n",
      ".. topic:: References\n",
      "\n",
      "   - Fisher, R.A. \"The use of multiple measurements in taxonomic problems\"\n",
      "     Annual Eugenics, 7, Part II, 179-188 (1936); also in \"Contributions to\n",
      "     Mathematical Statistics\" (John Wiley, NY, 1950).\n",
      "   - Duda, R.O., & Hart, P.E. (1973) Pattern Classification and Scene Analysis.\n",
      "     (Q327.D83) John Wiley & Sons.  ISBN 0-471-22361-1.  See page 218.\n",
      "   - Dasarathy, B.V. (1980) \"Nosing Around the Neighborhood: A New System\n",
      "     Structure and Classification Rule for Recognition in Partially Exposed\n",
      "     Environments\".  IEEE Transactions on Pattern Analysis and Machine\n",
      "     Intelligence, Vol. PAMI-2, No. 1, 67-71.\n",
      "   - Gates, G.W. (1972) \"The Reduced Nearest Neighbor Rule\".  IEEE Transactions\n",
      "     on Information Theory, May 1972, 431-433.\n",
      "   - See also: 1988 MLC Proceedings, 54-64.  Cheeseman et al\"s AUTOCLASS II\n",
      "     conceptual clustering system finds 3 classes in the data.\n",
      "   - Many, many more ...\n"
     ]
    }
   ],
   "source": [
    "print(iris['DESCR'])"
   ]
  },
  {
   "cell_type": "code",
   "execution_count": 4,
   "metadata": {},
   "outputs": [
    {
     "data": {
      "text/plain": [
       "<matplotlib.collections.PathCollection at 0x12cd3ebe0>"
      ]
     },
     "execution_count": 4,
     "metadata": {},
     "output_type": "execute_result"
    },
    {
     "data": {
      "image/png": "[encoded data removed]",
      "text/plain": [
       "<Figure size 432x288 with 1 Axes>"
      ]
     },
     "metadata": {
      "needs_background": "light"
     },
     "output_type": "display_data"
    }
   ],
   "source": [
    "import numpy as np\n",
    "import matplotlib\n",
    "import matplotlib.pyplot as plt\n",
    "\n",
    "petal_length = iris['data'][:, 2]\n",
    "petal_width = iris['data'][:, 3]\n",
    "target = iris['target']\n",
    "colors = ['red','green', 'blue']\n",
    "plt.xlabel(\"Petal length\")\n",
    "plt.ylabel(\"Petal width\")\n",
    "# plot the data for visualization\n",
    "plt.scatter(petal_length, petal_width, c=target, cmap=matplotlib.colors.ListedColormap(colors))"
   ]
  },
  {
   "cell_type": "code",
   "execution_count": 5,
   "metadata": {},
   "outputs": [],
   "source": [
    "# Given a threshold value, computes the CART algo cost function by summing weighted gini impurities on each side of the threshold\n",
    "def compute_cart_cost(x, target, threshold):\n",
    "    m = len(target)\n",
    "    left_indices = np.where(x <= threshold)\n",
    "    right_indices = np.where(x > threshold)\n",
    "    left_targets = target[left_indices]\n",
    "    right_targets = target[right_indices]\n",
    "    left_samples_count = len(left_targets)\n",
    "    right_samples_count = len(right_targets)\n",
    "    left_gini = 0\n",
    "    right_gini = 0\n",
    "    if (left_samples_count > 0) :\n",
    "        classes = np.unique(left_targets)\n",
    "        sample_size = len(left_targets)\n",
    "        classes = np.unique(left_targets)\n",
    "        left_gini = 1\n",
    "        for clazz in classes:\n",
    "            occurrences = len(np.where(left_targets == clazz)[0])\n",
    "            left_gini = left_gini - (occurrences * 1.0 / sample_size) ** 2\n",
    "    if (right_samples_count > 0):\n",
    "        classes = np.unique(right_targets)\n",
    "        sample_size = len(right_targets)\n",
    "        classes = np.unique(right_targets)\n",
    "        right_gini = 1\n",
    "        for clazz in classes:\n",
    "            occurrences = len(np.where(right_targets == clazz)[0])\n",
    "            right_gini = right_gini - (occurrences * 1.0 / sample_size) ** 2\n",
    "    cart_cost = left_samples_count / m * left_gini + right_samples_count / m * right_gini\n",
    "    return cart_cost\n",
    "    \n",
    "    \n",
    "\n",
    "# returns the the threshold yielding the smallest Gini impurity as well as the associated gini impurity\n",
    "def binary_search(x, target, left, right, iterations, previous_min_cost):\n",
    "    bs_mid = (left + right) / 2\n",
    "    bs_bottom = left\n",
    "    bs_top = right\n",
    "    mid_gini = compute_cart_cost(x, target, bs_mid)\n",
    "    cart_costs = [compute_cart_cost(x, target, bs_bottom), mid_gini, compute_cart_cost(x, target, bs_top)]\n",
    "    local_cart_cost_min = np.amin(cart_costs)\n",
    "    if (iterations == 0):\n",
    "        return (bs_mid, mid_gini)\n",
    "    previous_min_cost = local_cart_cost_min\n",
    "    if (cart_costs[0] < cart_costs[2]): # recurse on bottom half\n",
    "        return binary_search(x, target, bs_bottom, bs_mid, iterations - 1, previous_min_cost)\n",
    "    else:\n",
    "        return binary_search(x, target, bs_mid, bs_top, iterations - 1, previous_min_cost)\n",
    "        \n",
    "# Computes the Gini impurity of an array of target values.\n",
    "def compute_node_gini(target):\n",
    "    sample_size = len(target)\n",
    "    classes = np.unique(target)\n",
    "    res = 1\n",
    "    for clazz in classes:\n",
    "        occurrences = len(np.where(target == clazz)[0])\n",
    "        res = res - (occurrences * 1.0 / sample_size) ** 2\n",
    "    return res\n",
    "    "
   ]
  },
  {
   "cell_type": "code",
   "execution_count": 6,
   "metadata": {},
   "outputs": [],
   "source": [
    "\n",
    "class CARTNode:\n",
    "    \"\"\"This class represents a CART (classification and regression tree) node.\n",
    "    \n",
    "    A tree is a recursive data structure by definition and a full CART tree can therefore be described by its root.\n",
    "    Each tree node has the following instance variables:\n",
    "        left: A reference to its left child\n",
    "        right: A reference to its right child\n",
    "        threshold: The threshold value relative to a given feature to decide whether to recurse on the left or right subtree.\n",
    "        gini: The Gini impurity for that node\n",
    "        feature_index: the index of the feature used to make a decision (using threshold defined above)\n",
    "        clazz: The class this node predicts (if any: A node only predicts a class if it's a leaf)\n",
    "    \"\"\"\n",
    "\n",
    "    def __init__(self, left, right, threshold, gini, feature_index, clazz = None):\n",
    "        self.left = left # the left tree\n",
    "        self.right = right \n",
    "        self.threshold = threshold # the threshold under it, go to left tree, otherwise go to right tree\n",
    "        self.gini = gini # the gini impurity for that node.\n",
    "        self.feature_index = feature_index # which feature this node will do the comparison on.\n",
    "        self.clazz = clazz # the class this node would predict in case it's a leaf\n",
    "        \n",
    "    def predict(self, x):\n",
    "        if self.clazz is not None:\n",
    "            return self.clazz\n",
    "        if x[self.feature_index] <= self.threshold:\n",
    "            return self.left.predict(x)\n",
    "        else:\n",
    "            return self.right.predict(x)\n",
    "        \n",
    "            "
   ]
  },
  {
   "cell_type": "code",
   "execution_count": 7,
   "metadata": {},
   "outputs": [],
   "source": [
    "def build_decision_tree(depth, X, y):\n",
    "    print(\"Building tree at level {}\".format(depth))\n",
    "    num_of_features = len(X[0])\n",
    "    node_gini = compute_node_gini(y)\n",
    "    print(\"This node's gini impurity is {}\".format(node_gini))\n",
    "    if node_gini == 0 or depth == 0: # this node is terminal\n",
    "        print(\"Found pure terminal leaf\")\n",
    "        clazz = y[0]\n",
    "        return CARTNode(None, None, None, 0, None, clazz)\n",
    "    thresholds_and_ginis_by_feature = []\n",
    "    for feature in range(num_of_features):\n",
    "        min_feature_value = np.amin(X[:, feature])\n",
    "        max_feature_value = np.amax(X[:, feature])\n",
    "        mid_value = binary_search(X[:, feature], y, min_feature_value, max_feature_value, 20, -1)\n",
    "        thresholds_and_ginis_by_feature.append((feature,) + mid_value)\n",
    "    min_gini_threshold = min(thresholds_and_ginis_by_feature, key = lambda t: t[2])\n",
    "    optimal_feature_index = min_gini_threshold[0]\n",
    "    optimal_threshold = min_gini_threshold[1]\n",
    "    lowest_cost = min_gini_threshold[2]\n",
    "    left_indices = np.where(X[:, optimal_feature_index] <= optimal_threshold)\n",
    "    right_indices = np.where(X[:, optimal_feature_index] > optimal_threshold)\n",
    "    left_features = X[left_indices]\n",
    "    right_features = X[right_indices]\n",
    "    if len(left_features) == 0 or len(right_features) == 0:\n",
    "        # Could not split sample, probably because they all have the same features\n",
    "        return handle_inseparable_samples(X, y)\n",
    "    left = build_decision_tree(depth - 1, left_features, y[left_indices])\n",
    "    right = build_decision_tree(depth - 1, right_features, y[right_indices])\n",
    "    root = CARTNode(left, right, optimal_threshold, node_gini, optimal_feature_index)\n",
    "    return root\n",
    "\n",
    "# Returns a leaf for the most likely class\n",
    "# Otherwise this will cause issues when recursing on empty subtrees\n",
    "def handle_inseparable_samples(X, y):\n",
    "    print(\"Handling inseparable samples\")\n",
    "    print(X)\n",
    "    most_common_class =  np.argmax(np.bincount(y))\n",
    "    gini_impurity = compute_node_gini(y)\n",
    "    return CARTNode(None, None, None, gini_impurity, None, most_common_class)\n"
   ]
  },
  {
   "cell_type": "code",
   "execution_count": 8,
   "metadata": {},
   "outputs": [
    {
     "name": "stdout",
     "output_type": "stream",
     "text": [
      "Building tree at level 4\n",
      "This node's gini impurity is 0.6666666666666665\n",
      "Building tree at level 3\n",
      "This node's gini impurity is 0.0\n",
      "Found pure terminal leaf\n",
      "Building tree at level 3\n",
      "This node's gini impurity is 0.5\n",
      "Building tree at level 2\n",
      "This node's gini impurity is 0.1680384087791495\n",
      "Building tree at level 1\n",
      "This node's gini impurity is 0.0\n",
      "Found pure terminal leaf\n",
      "Building tree at level 1\n",
      "This node's gini impurity is 0.3106508875739644\n",
      "Building tree at level 0\n",
      "This node's gini impurity is 0.10493827160493831\n",
      "Found pure terminal leaf\n",
      "Building tree at level 0\n",
      "This node's gini impurity is 0.5\n",
      "Found pure terminal leaf\n",
      "Building tree at level 2\n",
      "This node's gini impurity is 0.04253308128544431\n",
      "Building tree at level 1\n",
      "This node's gini impurity is 0.4444444444444444\n",
      "Handling inseparable samples\n",
      "[[4.8 1.8]\n",
      " [4.8 1.8]\n",
      " [4.8 1.8]]\n",
      "Building tree at level 1\n",
      "This node's gini impurity is 0.0\n",
      "Found pure terminal leaf\n"
     ]
    }
   ],
   "source": [
    "petal_length = iris['data'][:, 2]\n",
    "petal_width = iris['data'][:, 3]\n",
    "X = np.stack((petal_length, petal_width), axis=1) # stack along dimension 1 (columns)\n",
    "target = iris['target']\n",
    "tree = build_decision_tree(4, X, target)\n"
   ]
  },
  {
   "cell_type": "code",
   "execution_count": 9,
   "metadata": {},
   "outputs": [
    {
     "name": "stdout",
     "output_type": "stream",
     "text": [
      "0\n"
     ]
    }
   ],
   "source": [
    "print(tree.predict([2, 0.5]))"
   ]
  },
  {
   "cell_type": "code",
   "execution_count": 10,
   "metadata": {},
   "outputs": [
    {
     "data": {
      "text/plain": [
       "<matplotlib.collections.PathCollection at 0x12ce532e0>"
      ]
     },
     "execution_count": 10,
     "metadata": {},
     "output_type": "execute_result"
    },
    {
     "data": {
      "image/png": "[encoded data removed]",
      "text/plain": [
       "<Figure size 432x288 with 1 Axes>"
      ]
     },
     "metadata": {
      "needs_background": "light"
     },
     "output_type": "display_data"
    }
   ],
   "source": [
    "# replotting for ease of visualization\n",
    "plt.scatter(petal_length, petal_width, c=target, cmap=matplotlib.colors.ListedColormap(colors))"
   ]
  },
  {
   "cell_type": "code",
   "execution_count": 11,
   "metadata": {},
   "outputs": [
    {
     "name": "stdout",
     "output_type": "stream",
     "text": [
      "0\n",
      "0\n",
      "1\n",
      "1\n",
      "2\n",
      "2\n"
     ]
    }
   ],
   "source": [
    "# Some predictions\n",
    "print(tree.predict([2, 0.5]))\n",
    "print(tree.predict([1.2, 2]))\n",
    "print(tree.predict([3, 1]))\n",
    "print(tree.predict([4.6, 1.5]))\n",
    "print(tree.predict([4, 2]))\n",
    "print(tree.predict([6, 2]))"
   ]
  },
  {
   "cell_type": "code",
   "execution_count": null,
   "metadata": {},
   "outputs": [],
   "source": []
  }
 ],
 "metadata": {
  "kernelspec": {
   "display_name": "Python 3",
   "language": "python",
   "name": "python3"
  },
  "language_info": {
   "codemirror_mode": {
    "name": "ipython",
    "version": 3
   },
   "file_extension": ".py",
   "mimetype": "text/x-python",
   "name": "python",
   "nbconvert_exporter": "python",
   "pygments_lexer": "ipython3",
   "version": "3.8.5"
  }
 },
 "nbformat": 4,
 "nbformat_minor": 4
}
